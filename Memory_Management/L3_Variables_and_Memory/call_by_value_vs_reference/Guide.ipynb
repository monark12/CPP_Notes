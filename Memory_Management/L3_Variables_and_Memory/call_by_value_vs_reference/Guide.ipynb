{
 "cells": [
  {
   "cell_type": "markdown",
   "metadata": {
    "editable": false
   },
   "source": [
    "## Variable Scopes in C++\n",
    "The time between allocation and deallocation is called the **lifetime** of a variable.  Using a variable after its lifetime has ended is a common programming error, against which most modern languages try to protect: Local variables are only available within their respective scope (e.g. inside a function) and are simply not available outside - so using them inappropriately will result in a compile-time error. When using pointer variables however,  programmers must make sure that allocation is handled correctly and that no invalid memory addresses are accessed. \n",
    "\n",
    "The example to the right shows a set of local (or automatic) variables, whose lifetime is bound to the function they are in.\n",
    "\n",
    "When `MyLocalFunction`  is called, the local variable `isBelowThreshold` is **allocated** on the stack. When the function exits, it is again **deallocated**.\n",
    "\n",
    "For the allocation of local variables, the following holds: \n",
    "\n",
    "1. Memory is allocated for local variables only after a function has been called. The parameters of a function are also local variables and they are initialized with a value copied from the caller. \n",
    "\n",
    "2. As long as the current thread of execution is within function `A`, memory for the local variables remains allocated. This even holds true in case another function `B` is called from within the current function `A` and the thread of execution moves into this nested function call. However, within function `B`, the local variables of function `A` are not known. \n",
    "\n",
    "3. When the function exits, its locals are deallocated and there is now way to them afterwards - even if the address were still known (e.g. by storing it within a pointer). \n",
    "\n",
    "Let us briefly revisit the most common ways of passing parameters to a function, which are called *pass-by-reference* and *pass-by-value*.\n",
    "\n",
    "### Quiz : How many local variables?\n",
    "How many local variables are created within the scope of MyLocalFunction?"
   ]
  },
  {
   "cell_type": "markdown",
   "metadata": {
    "editable": false,
    "toggleable": true,
    "ulab": {
     "buttons": {
      "ulab-button-toggle-4f88f8b2": {
       "style": "primary"
      }
     }
    }
   },
   "source": [
    "Two variables are created, namely `myInt` and `isBelowThreshold`."
   ]
  },
  {
   "cell_type": "markdown",
   "metadata": {
    "editable": false
   },
   "source": [
    "<!--\n",
    "%%ulab_page_divider\n",
    "--><hr/>"
   ]
  },
  {
   "cell_type": "markdown",
   "metadata": {
    "editable": false
   },
   "source": [
    "## Passing Variables by Value\n",
    "\n",
    "When calling a function as in the previous code example, its parameters (in this case `myInt`) are used to create local copies of the information provided by the caller. The caller is not sharing the parameter with the function but instead a proprietary copy is created using the assignment operator `=` (more about that later). When passing parameters in such a way, it is ensured that changes made to the local copy will not affect the original on the caller side. The upside to this is that inner workings of the function and the data owned by the caller are kept neatly separate. \n",
    "\n",
    "However, there are two major downsides to this: \n",
    "\n",
    "1. Passing parameters by value means that a copy is created, which is an expensive operation that might consume large amounts of memory, depending on the data that is being transferred. Later in this course we will encounter \"move semantics\", which is an effective way to compensate for this downside. \n",
    "2. Passing by value also means that the created copy can not be used as a back channel for communicating with the caller, for example by directly writing the desired information into the variable. \n",
    "\n",
    "Consider the example on the right in the `pass_by_value.cpp` file. In main, the integer `val` is initialized with 0. When passing it to the function `AddTwo`, a local copy of `val` is created, which only exists within the scope of `AddTwo`, so the add-operation has no effect on `val` on the caller side. So when `main` returns, `val` has a value of 2 instead of 4."
   ]
  },
  {
   "cell_type": "markdown",
   "metadata": {
    "editable": false
   },
   "source": [
    "<!--\n",
    "%%ulab_page_divider\n",
    "--><hr/>"
   ]
  },
  {
   "cell_type": "markdown",
   "metadata": {
    "editable": false
   },
   "source": [
    "However, with a slight modification, we can easily create a backchannel to the caller side. Consider the  code on the right.\n",
    "\n",
    "In this case, when passing the parameter to the function `AddThree`, we are creating a local copy as well but note that we are now passing a pointer variable. This means that a copy of the memory address of `val` is created, which we can then use to directly modify its content by using the dereference operator `*`."
   ]
  },
  {
   "cell_type": "markdown",
   "metadata": {
    "editable": false
   },
   "source": [
    "<!--\n",
    "%%ulab_page_divider\n",
    "--><hr/>"
   ]
  },
  {
   "cell_type": "markdown",
   "metadata": {
    "editable": false
   },
   "source": [
    "## Passing Variables by Reference\n",
    "The second major way of passing parameters to a function is by reference. With this way, the function receives a reference to the parameter, rather than a copy of its value. As with the example of `AddThree` above, the function can now modify the argument such that the changes also happen on the caller side. In addition to the possibility to directly exchange information between function and caller, passing variables by reference is also faster as no information needs to be copied, as well as more memory-efficient. \n",
    "\n",
    "A major disadvantage is that the caller does not always know what will happen to the data it passes to a function (especially when the function code can not be modified easily). Thus, in some cases, special steps must be taken to protect ones data from inappropriate modification.\n",
    "\n",
    "Let us now look at an example of passing a variable by reference, shown in the code on the right. "
   ]
  },
  {
   "cell_type": "markdown",
   "metadata": {
    "editable": false
   },
   "source": [
    "<!--\n",
    "%%ulab_page_divider\n",
    "--><hr/>"
   ]
  },
  {
   "cell_type": "markdown",
   "metadata": {
    "editable": false
   },
   "source": [
    "To pass a variable by reference, we simply declare the function parameters as references using `&` rather than as normal variables. When the function is called, `val` will become a reference to the argument. Since a reference to a variable is treated exactly the same as the variable itself, any changes made to the reference are passed through to the argument!"
   ]
  },
  {
   "cell_type": "markdown",
   "metadata": {
    "editable": false
   },
   "source": [
    "<!--\n",
    "%%ulab_page_divider\n",
    "--><hr/>"
   ]
  },
  {
   "cell_type": "markdown",
   "metadata": {
    "editable": false
   },
   "source": [
    "### Quiz : Modifying several parameters\n",
    "\n",
    "An additional advantage of passing variables by reference is the possibility to modify several variables.  When using the function return value for such a purpose, returning several variables is usually very cumbersome. \n",
    "\n",
    "Your task here is to create a function `AddFive` that modifies the `int` input variable by adding 5 and modifies the `bool` input variable to be `true`. In the code to the right you will find the function call in `main()`."
   ]
  },
  {
   "cell_type": "markdown",
   "metadata": {
    "editable": false,
    "toggleable": true,
    "ulab": {
     "buttons": {
      "ulab-button-toggle-2d01285d": {
       "style": "primary"
      }
     }
    }
   },
   "source": [
    "```cpp\n",
    "void AddFive(int &val, bool &success)\n",
    "{\n",
    "    val += 5;\n",
    "    success = true;\n",
    "}\n",
    "```"
   ]
  },
  {
   "cell_type": "markdown",
   "metadata": {
    "editable": false
   },
   "source": [
    "<!--\n",
    "%%ulab_page_divider\n",
    "--><hr/>"
   ]
  },
  {
   "cell_type": "markdown",
   "metadata": {
    "editable": false
   },
   "source": [
    "## Pointers vs. References\n",
    "As we have seen in the examples above, the use of pointers and references to directly manipulate function arguments in a memory-effective way is very similar. Let us compare the two methods in the code on the right.\n",
    "\n",
    "As can be seen, pointer and reference are both implemented by using a memory address. In the case of `AddFour` the caller does not even realize that `val` might be modified while with `AddSix`, the reference to `val` has to be explicitly written by using `&`.\n",
    "\n",
    "If passing by value needs to be avoided, both pointers and references are a way to achieve this. The following selection of properties contrasts the two methods so it will be easier to decide which to use from the perspective of the use-case at hand: \n",
    "\n",
    "- Pointers can be declared without initialization. This means we can pass an uninitialized pointer to a function who then internally performs the initialization for us. \n",
    "\n",
    "- Pointers can be reassigned to another memory block on the heap. \n",
    "\n",
    "- References are usually easier to use (depending on the expertise level of the programmer). Sometimes however, if a third-party function is used without properly looking at the parameter definition, it might go unnoticed that a value has been modified. "
   ]
  },
  {
   "cell_type": "markdown",
   "metadata": {
    "editable": false
   },
   "source": [
    "<!--\n",
    "%%ulab_page_divider\n",
    "--><hr/>"
   ]
  },
  {
   "cell_type": "markdown",
   "metadata": {
    "editable": false
   },
   "source": [
    "## Stack Usage of Function Calls"
   ]
  },
  {
   "cell_type": "markdown",
   "metadata": {
    "editable": false,
    "video": {
     "duration": 297,
     "id": "101683",
     "subtitles": [],
     "topher_id": "2ad52251-dbfa-11e9-b7ab-0242ac11000d",
     "transcodings": {
      "uri_480p_1000kbps_mp4": "https://video.udacity-data.com/topher/2019/September/5d855997_nd213-c03-l02-03.2-call-by-value-vs.-call-by-reference-sc/nd213-c03-l02-03.2-call-by-value-vs.-call-by-reference-sc_480p_1000kbps.mp4",
      "uri_480p_mp4": "https://video.udacity-data.com/topher/2019/September/5d855997_nd213-c03-l02-03.2-call-by-value-vs.-call-by-reference-sc/nd213-c03-l02-03.2-call-by-value-vs.-call-by-reference-sc_480p.mp4",
      "uri_720p_mp4": "https://video.udacity-data.com/topher/2019/September/5d855997_nd213-c03-l02-03.2-call-by-value-vs.-call-by-reference-sc/nd213-c03-l02-03.2-call-by-value-vs.-call-by-reference-sc_720p.mp4",
      "uri_hls": "https://video.udacity-data.com/topher/2019/September/5d855997_nd213-c03-l02-03.2-call-by-value-vs.-call-by-reference-sc/hls/playlist.m3u8"
     },
     "youtube_id": "-H0s49ukZzQ"
    }
   },
   "source": []
  },
  {
   "cell_type": "markdown",
   "metadata": {
    "editable": false
   },
   "source": [
    "<!--\n",
    "%%ulab_page_divider\n",
    "--><hr/>"
   ]
  },
  {
   "cell_type": "markdown",
   "metadata": {
    "editable": false
   },
   "source": [
    "Now, we will compare the three strategies we have seen so far with regard to stack memory usage. Consider the code on the right.\n",
    "\n",
    "After creating a local variable `i` in `main` to give us the address of the stack bottom, we are passing `i` by-value to our first function. Inside `CallByValue`, the memory address of a local variable  `j` is printed to the console, which serves as a marker for the stack pointer. With the second function call in `main`, we are passing a reference to `i`  to `CallByPointer`. Lastly, the function `CallByReference` is called in main, which again takes the integer `i` as an argument. However, from looking at `main` alone, we can not tell wether `i` will be passed by value or by reference.\n",
    "\n",
    "On my machine, when compiled with g++ (Apple clang version 11.0.0), the program produces the following output: \n",
    "\n",
    "```\n",
    "stack bottom: 0x7ffeefbff698\n",
    "call-by-value: 0x7ffeefbff678\n",
    "call-by-pointer: 0x7ffeefbff674\n",
    "call-by-reference: 0x7ffeefbff674\n",
    "```\n",
    "\n",
    "Depending on your system, the compiler you use and the compiler optimization techniques, you man not always see this result. In some cases \n",
    "\n",
    "Let us take a look at the respective differences to the stack bottom in turn: \n",
    "\n",
    "1. `CallByValue` requires 32 bytes of memory. As discussed before, this is reserved for e.g. the function return address and for the local variables within the function (including the copy of `i`).\n",
    "\n",
    "2. `CallByPointer` on the other hand requires - perhaps surprisingly - 36 bytes of memory. Let us complete the examination before going into more details on this result.\n",
    "\n",
    "3. `CallByReference` finally has the same memory requirements as `CallByPointer`."
   ]
  },
  {
   "cell_type": "markdown",
   "metadata": {
    "editable": false
   },
   "source": [
    "<!--\n",
    "%%ulab_page_divider\n",
    "--><hr/>"
   ]
  },
  {
   "cell_type": "markdown",
   "metadata": {
    "editable": false
   },
   "source": [
    "### Quiz: Why does CallByValue require more memory?\n",
    "\n",
    "In this section, we have argued at length that passing a parameter by reference avoids a costly copy and should - in many situations - be preferred over passing a parameter by value. Yet, in the experiment above, we have witnessed the exact opposite. \n",
    "\n",
    "Can you explain why? "
   ]
  },
  {
   "cell_type": "markdown",
   "metadata": {
    "editable": false,
    "toggleable": true,
    "ulab": {
     "buttons": {
      "ulab-button-toggle-65f32e83": {
       "style": "primary"
      }
     }
    }
   },
   "source": [
    "Let us take a look at the size of the various parameter types using the `sizeof` command: \n",
    "\n",
    "```\n",
    "printf(\"size of int: %lu\\n\", sizeof(int));\n",
    "printf(\"size of *int: %lu\\n\", sizeof(int *));\n",
    "```\n",
    "\n",
    "The output here is\n",
    "```\n",
    "size of int: 4\n",
    "size of *int: 8\n",
    "```\n",
    "\n",
    "Obviously, the size of the pointer variable is larger than the actual data type. As my machine has a 64 bit architecture, an address requires 8 byte. \n",
    "\n",
    "As an experiment, you could use the `-m32` compiler flag to build a 32 bit version of the program. This yields the following output: \n",
    "\n",
    "```\n",
    "size of int: 4\n",
    "size of *int: 4\n",
    "```\n",
    "\n",
    "In order to benefit from call-by-reference, the size of the data type passed to the function has to surpass the size of the pointer on the respective architecture (i.e. 32 bit or 64 bit). "
   ]
  }
 ],
 "metadata": {
  "kernelspec": {
   "display_name": "Python 3",
   "language": "python",
   "name": "python3"
  },
  "language_info": {
   "codemirror_mode": {
    "name": "ipython",
    "version": 3
   },
   "file_extension": ".py",
   "mimetype": "text/x-python",
   "name": "python",
   "nbconvert_exporter": "python",
   "pygments_lexer": "ipython3",
   "version": "3.6.3"
  },
  "ulab_nb_type": "guided"
 },
 "nbformat": 4,
 "nbformat_minor": 4
}
